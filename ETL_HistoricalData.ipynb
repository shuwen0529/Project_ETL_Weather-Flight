{
 "cells": [
  {
   "cell_type": "code",
   "execution_count": 1,
   "metadata": {},
   "outputs": [],
   "source": [
    "# Dependencies and Setup\n",
    "import pandas as pd\n",
    "import numpy as np"
   ]
  },
  {
   "cell_type": "markdown",
   "metadata": {},
   "source": [
    "## Extract Flight.csv into DataFrame and CleanUp"
   ]
  },
  {
   "cell_type": "code",
   "execution_count": 2,
   "metadata": {},
   "outputs": [],
   "source": [
    "flight = pd.read_csv(\"Resource/flight_data.csv\")\n",
    "\n",
    "# Only keep JFK airport info\n",
    "flight_JFK = flight.loc[flight[\"origin\"] == \"JFK\"]  \n",
    "\n",
    "# Filter columns \"dep_delay\" and \"arr_delay\", only keep delayed flights (>0)\n",
    "flight_JFK_delayed = flight_JFK.loc[flight_JFK[\"dep_delay\"] >0.]  \n",
    "flight_JFK_delayed = flight_JFK_delayed.loc[flight_JFK_delayed[\"arr_delay\"] >0.]  \n",
    "\n",
    "# Create a filtered dataframe from specific columns\n",
    "flight_JFK_delayed_df = pd.DataFrame(data = {\"Month\": flight_JFK_delayed[\"month\"],\n",
    "                                          \"Day\": flight_JFK_delayed[\"day\"],\n",
    "                                          \"Departure Delay\": flight_JFK_delayed[\"dep_delay\"],\n",
    "                                          \"Arrival Delay\": flight_JFK_delayed[\"arr_delay\"],                               \n",
    "                                          \"Tailnum\": flight_JFK_delayed[\"tailnum\"]})\n",
    "\n",
    "# flight_JFK_delayed_df.head()"
   ]
  },
  {
   "cell_type": "markdown",
   "metadata": {},
   "source": [
    "## Transform dataframe to get daily total number of delayed flights "
   ]
  },
  {
   "cell_type": "code",
   "execution_count": 3,
   "metadata": {},
   "outputs": [],
   "source": [
    "Time = []\n",
    "flight_JFK_delay_number = []\n",
    "\n",
    "Month = 12 \n",
    "for m in range(1, Month+1):\n",
    "    days = pd.Period(\"2013-{:02d}\".format(m)).days_in_month #days in a month\n",
    "    for d in range(1, days+1):\n",
    "        Time.append(\"2013-%02d-%02d\"% (m,d))\n",
    "        number = flight_JFK_delayed_df[(flight_JFK_delayed_df[\"Month\"] == m) \\\n",
    "                                       & (flight_JFK_delayed_df[\"Day\"] ==d )].shape[0]\n",
    "        flight_JFK_delay_number.append(number)\n",
    "        \n",
    "# Create a new DataFrame \n",
    "flight_JFK_delaynumber_df = pd.DataFrame(data = {\"Time\" : Time,\n",
    "                            \"delayed flights #\" : flight_JFK_delay_number})"
   ]
  },
  {
   "cell_type": "markdown",
   "metadata": {},
   "source": [
    "## Extract 2013 weather variables into DataFrame and CleanUp"
   ]
  },
  {
   "cell_type": "markdown",
   "metadata": {},
   "source": [
    "#### Part I: Loop through weather variables and average each by days "
   ]
  },
  {
   "cell_type": "code",
   "execution_count": 4,
   "metadata": {},
   "outputs": [
    {
     "name": "stdout",
     "output_type": "stream",
     "text": [
      "processing temperature\n",
      "processing humidity\n",
      "processing pressure\n",
      "processing wind_speed\n",
      "processing wind_direction\n"
     ]
    }
   ],
   "source": [
    "weather_variables = [\"temperature\", \"humidity\", \"pressure\", \"wind_speed\", \"wind_direction\"]\n",
    "\n",
    "for var in weather_variables:\n",
    "    print (\"processing \"+var)\n",
    "    var_df_ori = pd.read_csv(\"Resource/\"+var+\".csv\")\n",
    "\n",
    "    # Only extract data for NYC\n",
    "    var_df_nyc = pd.DataFrame(data ={\"datetime\": var_df_ori [\"datetime\"],\n",
    "                                      var: var_df_ori [\"New York\"]})\n",
    "    # Only extract data in 2013\n",
    "    var_df_nyc_2013 = var_df_nyc.loc[ pd.to_datetime(var_df_nyc[\"datetime\"]).dt.year ==2013]  \n",
    "\n",
    "    # Get daily averaged value \n",
    "    # (This code line is so interesting!)\n",
    "    var_df_nyc_2013_daily = var_df_nyc_2013.groupby(np.arange(len(var_df_nyc_2013))//24).mean()\n",
    "\n",
    "    # Append humidity to flight_JFK_delaynumber_df\n",
    "    flight_JFK_delaynumber_df[var] = var_df_nyc_2013_daily.round(1)"
   ]
  },
  {
   "cell_type": "markdown",
   "metadata": {},
   "source": [
    "#### Part II: Weather descrption strings sort by daily frequency (Think thoroughly!)"
   ]
  },
  {
   "cell_type": "code",
   "execution_count": 5,
   "metadata": {},
   "outputs": [],
   "source": [
    "# Now let's deal with weather_description, since they are strings and can't be averaged by day, \n",
    "# we select the most frequent weather_description by day\n",
    "wd_df_ori = pd.read_csv(\"Resource/weather_description.csv\")\n",
    "wd_df_nyc = pd.DataFrame(data ={\"datetime\": wd_df_ori [\"datetime\"],\n",
    "                                \"weather_description\": wd_df_ori [\"New York\"]})\n",
    "\n",
    "wd_df_nyc_2013 = wd_df_nyc.loc[ pd.to_datetime(wd_df_nyc[\"datetime\"]).dt.year ==2013]  \n",
    "\n",
    "wd_df_nyc_2013_daily = []\n",
    "for d in range(365):\n",
    "    wd_nyc_daily = wd_df_nyc_2013.iloc[ d*24:(d+1)*24, 1]  \n",
    "    wd_daily = str(wd_nyc_daily.mode()).split()\n",
    "    wd_df_nyc_2013_daily.append(' '.join(wd_daily[1:-2]))\n",
    "\n",
    "# Append to flight_JFK_delaynumber_df\n",
    "flight_JFK_delaynumber_df[\"Weather Description\"] = pd.Series(wd_df_nyc_2013_daily) "
   ]
  },
  {
   "cell_type": "markdown",
   "metadata": {},
   "source": [
    "## Load DataFrames into database"
   ]
  },
  {
   "cell_type": "code",
   "execution_count": 6,
   "metadata": {},
   "outputs": [
    {
     "data": {
      "text/html": [
       "<div>\n",
       "<style scoped>\n",
       "    .dataframe tbody tr th:only-of-type {\n",
       "        vertical-align: middle;\n",
       "    }\n",
       "\n",
       "    .dataframe tbody tr th {\n",
       "        vertical-align: top;\n",
       "    }\n",
       "\n",
       "    .dataframe thead th {\n",
       "        text-align: right;\n",
       "    }\n",
       "</style>\n",
       "<table border=\"1\" class=\"dataframe\">\n",
       "  <thead>\n",
       "    <tr style=\"text-align: right;\">\n",
       "      <th></th>\n",
       "      <th>Date</th>\n",
       "      <th>delayed flights #</th>\n",
       "      <th>Temperature (K)</th>\n",
       "      <th>Humidity(%)</th>\n",
       "      <th>Pressure(mb)</th>\n",
       "      <th>Wind Speed(mph)</th>\n",
       "      <th>Wind Direction</th>\n",
       "      <th>Weather Description</th>\n",
       "    </tr>\n",
       "  </thead>\n",
       "  <tbody>\n",
       "    <tr>\n",
       "      <th>0</th>\n",
       "      <td>2013-01-01</td>\n",
       "      <td>87</td>\n",
       "      <td>272.7</td>\n",
       "      <td>49.9</td>\n",
       "      <td>1019.9</td>\n",
       "      <td>6.1</td>\n",
       "      <td>272.2</td>\n",
       "      <td>broken clouds</td>\n",
       "    </tr>\n",
       "    <tr>\n",
       "      <th>1</th>\n",
       "      <td>2013-01-02</td>\n",
       "      <td>83</td>\n",
       "      <td>276.4</td>\n",
       "      <td>53.7</td>\n",
       "      <td>1012.2</td>\n",
       "      <td>6.4</td>\n",
       "      <td>268.8</td>\n",
       "      <td>overcast clouds</td>\n",
       "    </tr>\n",
       "    <tr>\n",
       "      <th>2</th>\n",
       "      <td>2013-01-03</td>\n",
       "      <td>97</td>\n",
       "      <td>270.7</td>\n",
       "      <td>58.0</td>\n",
       "      <td>1015.7</td>\n",
       "      <td>5.7</td>\n",
       "      <td>314.5</td>\n",
       "      <td>broken clouds</td>\n",
       "    </tr>\n",
       "    <tr>\n",
       "      <th>3</th>\n",
       "      <td>2013-01-04</td>\n",
       "      <td>92</td>\n",
       "      <td>271.1</td>\n",
       "      <td>55.0</td>\n",
       "      <td>1020.9</td>\n",
       "      <td>4.5</td>\n",
       "      <td>293.3</td>\n",
       "      <td>broken clouds</td>\n",
       "    </tr>\n",
       "    <tr>\n",
       "      <th>4</th>\n",
       "      <td>2013-01-05</td>\n",
       "      <td>85</td>\n",
       "      <td>274.0</td>\n",
       "      <td>52.3</td>\n",
       "      <td>1018.8</td>\n",
       "      <td>6.1</td>\n",
       "      <td>262.0</td>\n",
       "      <td>overcast clouds</td>\n",
       "    </tr>\n",
       "  </tbody>\n",
       "</table>\n",
       "</div>"
      ],
      "text/plain": [
       "         Date  delayed flights #  Temperature (K)  Humidity(%)  Pressure(mb)  \\\n",
       "0  2013-01-01                 87            272.7         49.9        1019.9   \n",
       "1  2013-01-02                 83            276.4         53.7        1012.2   \n",
       "2  2013-01-03                 97            270.7         58.0        1015.7   \n",
       "3  2013-01-04                 92            271.1         55.0        1020.9   \n",
       "4  2013-01-05                 85            274.0         52.3        1018.8   \n",
       "\n",
       "   Wind Speed(mph)  Wind Direction Weather Description  \n",
       "0              6.1           272.2       broken clouds  \n",
       "1              6.4           268.8     overcast clouds  \n",
       "2              5.7           314.5       broken clouds  \n",
       "3              4.5           293.3       broken clouds  \n",
       "4              6.1           262.0     overcast clouds  "
      ]
     },
     "execution_count": 6,
     "metadata": {},
     "output_type": "execute_result"
    }
   ],
   "source": [
    "# Rename column names and add units \n",
    "flight_JFK_delaynumber_df.rename(columns={'Time':'Date',                                   \n",
    "                                          'temperature': 'Temperature (K)', \n",
    "                                          'humidity': 'Humidity(%)', \n",
    "                                          'pressure': 'Pressure(mb)',\n",
    "                                          'wind_speed': 'Wind Speed(mph)',\n",
    "                                          'wind_direction': 'Wind Direction'\n",
    "                                         }, inplace=True)\n",
    "flight_JFK_delaynumber_df.head()"
   ]
  },
  {
   "cell_type": "code",
   "execution_count": 7,
   "metadata": {},
   "outputs": [],
   "source": [
    "# Save dataframe to sql\n",
    "from sqlalchemy import create_engine\n",
    "\n",
    "database_path = \"NewYork_JFKflight_Delay2013_db\"\n",
    "engine = create_engine(f\"sqlite:///{database_path}\")\n",
    "flight_JFK_delaynumber_df.to_sql(\"NewYork_JFKflight_Delay_2013\", con=engine, if_exists='append')"
   ]
  },
  {
   "cell_type": "markdown",
   "metadata": {},
   "source": [
    "## Conclusions:\n",
    "1)\tIn 2013, the most delayed flights (217 in total) occurred under the weather condition ‘heavy snow’.\n",
    "\n",
    "2)\tHigh numbers of delayed flights not necessarily results from sever weather condition, for example, the second and third most delayed flights occurred under ‘light rain’ and ‘sky is clear’, therefore, other weather variables should also be considered, e.g. wind speed and direction."
   ]
  },
  {
   "cell_type": "code",
   "execution_count": 8,
   "metadata": {},
   "outputs": [
    {
     "data": {
      "text/html": [
       "<div>\n",
       "<style scoped>\n",
       "    .dataframe tbody tr th:only-of-type {\n",
       "        vertical-align: middle;\n",
       "    }\n",
       "\n",
       "    .dataframe tbody tr th {\n",
       "        vertical-align: top;\n",
       "    }\n",
       "\n",
       "    .dataframe thead th {\n",
       "        text-align: right;\n",
       "    }\n",
       "</style>\n",
       "<table border=\"1\" class=\"dataframe\">\n",
       "  <thead>\n",
       "    <tr style=\"text-align: right;\">\n",
       "      <th></th>\n",
       "      <th>Date</th>\n",
       "      <th>delayed flights #</th>\n",
       "      <th>Temperature (K)</th>\n",
       "      <th>Humidity(%)</th>\n",
       "      <th>Pressure(mb)</th>\n",
       "      <th>Wind Speed(mph)</th>\n",
       "      <th>Wind Direction</th>\n",
       "      <th>Weather Description</th>\n",
       "    </tr>\n",
       "  </thead>\n",
       "  <tbody>\n",
       "    <tr>\n",
       "      <th>66</th>\n",
       "      <td>2013-03-08</td>\n",
       "      <td>217</td>\n",
       "      <td>275.8</td>\n",
       "      <td>68.7</td>\n",
       "      <td>1016.2</td>\n",
       "      <td>8.0</td>\n",
       "      <td>139.5</td>\n",
       "      <td>heavy snow</td>\n",
       "    </tr>\n",
       "    <tr>\n",
       "      <th>220</th>\n",
       "      <td>2013-08-09</td>\n",
       "      <td>201</td>\n",
       "      <td>296.3</td>\n",
       "      <td>88.0</td>\n",
       "      <td>987.0</td>\n",
       "      <td>2.8</td>\n",
       "      <td>182.8</td>\n",
       "      <td>light rain</td>\n",
       "    </tr>\n",
       "    <tr>\n",
       "      <th>175</th>\n",
       "      <td>2013-06-25</td>\n",
       "      <td>200</td>\n",
       "      <td>300.3</td>\n",
       "      <td>75.0</td>\n",
       "      <td>1016.8</td>\n",
       "      <td>1.8</td>\n",
       "      <td>249.4</td>\n",
       "      <td>sky is clear</td>\n",
       "    </tr>\n",
       "    <tr>\n",
       "      <th>203</th>\n",
       "      <td>2013-07-23</td>\n",
       "      <td>200</td>\n",
       "      <td>298.3</td>\n",
       "      <td>85.3</td>\n",
       "      <td>1013.1</td>\n",
       "      <td>1.9</td>\n",
       "      <td>75.4</td>\n",
       "      <td>heavy intensity rain</td>\n",
       "    </tr>\n",
       "    <tr>\n",
       "      <th>163</th>\n",
       "      <td>2013-06-13</td>\n",
       "      <td>192</td>\n",
       "      <td>295.0</td>\n",
       "      <td>58.8</td>\n",
       "      <td>1008.5</td>\n",
       "      <td>2.6</td>\n",
       "      <td>266.6</td>\n",
       "      <td>sky is clear</td>\n",
       "    </tr>\n",
       "  </tbody>\n",
       "</table>\n",
       "</div>"
      ],
      "text/plain": [
       "           Date  delayed flights #  Temperature (K)  Humidity(%)  \\\n",
       "66   2013-03-08                217            275.8         68.7   \n",
       "220  2013-08-09                201            296.3         88.0   \n",
       "175  2013-06-25                200            300.3         75.0   \n",
       "203  2013-07-23                200            298.3         85.3   \n",
       "163  2013-06-13                192            295.0         58.8   \n",
       "\n",
       "     Pressure(mb)  Wind Speed(mph)  Wind Direction   Weather Description  \n",
       "66         1016.2              8.0           139.5            heavy snow  \n",
       "220         987.0              2.8           182.8            light rain  \n",
       "175        1016.8              1.8           249.4          sky is clear  \n",
       "203        1013.1              1.9            75.4  heavy intensity rain  \n",
       "163        1008.5              2.6           266.6          sky is clear  "
      ]
     },
     "execution_count": 8,
     "metadata": {},
     "output_type": "execute_result"
    }
   ],
   "source": [
    "flight_JFK_delaynumber_df.sort_values(['delayed flights #'],ascending=False).head()"
   ]
  },
  {
   "cell_type": "code",
   "execution_count": null,
   "metadata": {},
   "outputs": [],
   "source": []
  }
 ],
 "metadata": {
  "kernelspec": {
   "display_name": "Python 3",
   "language": "python",
   "name": "python3"
  },
  "language_info": {
   "codemirror_mode": {
    "name": "ipython",
    "version": 3
   },
   "file_extension": ".py",
   "mimetype": "text/x-python",
   "name": "python",
   "nbconvert_exporter": "python",
   "pygments_lexer": "ipython3",
   "version": "3.7.3"
  }
 },
 "nbformat": 4,
 "nbformat_minor": 2
}
